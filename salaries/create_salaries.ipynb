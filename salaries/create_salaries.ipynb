{
  "nbformat": 4,
  "nbformat_minor": 0,
  "metadata": {
    "colab": {
      "name": "create_salaries.ipynb",
      "provenance": [],
      "collapsed_sections": []
    },
    "kernelspec": {
      "name": "python3",
      "display_name": "Python 3"
    },
    "language_info": {
      "name": "python"
    }
  },
  "cells": [
    {
      "cell_type": "markdown",
      "source": [
        "Script for salary and cutting roster down\n",
        "\n",
        "Bin Ratings into Salaries"
      ],
      "metadata": {
        "id": "Ic3l962hi7cE"
      }
    },
    {
      "cell_type": "code",
      "source": [
        "from google.colab import drive\n",
        "drive.mount('/content/drive')"
      ],
      "metadata": {
        "colab": {
          "base_uri": "https://localhost:8080/"
        },
        "id": "XK8AtS9qjZ5A",
        "outputId": "2f3398bf-3584-4a3a-c980-d011b8d45381"
      },
      "execution_count": 138,
      "outputs": [
        {
          "output_type": "stream",
          "name": "stdout",
          "text": [
            "Drive already mounted at /content/drive; to attempt to forcibly remount, call drive.mount(\"/content/drive\", force_remount=True).\n"
          ]
        }
      ]
    },
    {
      "cell_type": "code",
      "execution_count": 139,
      "metadata": {
        "id": "JgF41yI_i5au"
      },
      "outputs": [],
      "source": [
        "import pandas as pd\n",
        "import shutil"
      ]
    },
    {
      "cell_type": "code",
      "source": [
        "roster = pd.read_csv (r'roster_full_final.csv')"
      ],
      "metadata": {
        "id": "Gs9tEdnBlx0F"
      },
      "execution_count": 140,
      "outputs": []
    },
    {
      "cell_type": "code",
      "source": [
        "roster = roster[roster['overallAttribute'] > 84]"
      ],
      "metadata": {
        "id": "sHDiOiI3BvN-"
      },
      "execution_count": 141,
      "outputs": []
    },
    {
      "cell_type": "code",
      "source": [
        "roster['overall_bin'], bins = pd.qcut(roster['overallAttribute'], q=[0, 0.3, 0.45, 0.65, 0.75, 0.85, 0.9, 0.95, 0.98, 1], \n",
        "                                duplicates=\"drop\", \n",
        "                                retbins=True, \n",
        "                                labels = ['A', 'B', 'C', 'D', 'E', 'F', 'G', 'H', 'I'])"
      ],
      "metadata": {
        "id": "TawFtovr-34y"
      },
      "execution_count": 142,
      "outputs": []
    },
    {
      "cell_type": "code",
      "source": [
        "roster.to_csv(\"./roster_trimmed.csv\")"
      ],
      "metadata": {
        "id": "FWZXGGrEzwu2"
      },
      "execution_count": 145,
      "outputs": []
    },
    {
      "cell_type": "code",
      "source": [
        "drive.flush_and_unmount()"
      ],
      "metadata": {
        "id": "nYGcaVkikTON"
      },
      "execution_count": 146,
      "outputs": []
    }
  ]
}